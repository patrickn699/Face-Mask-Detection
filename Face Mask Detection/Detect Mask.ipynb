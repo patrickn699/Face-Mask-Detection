{
 "cells": [
  {
   "cell_type": "code",
   "execution_count": 22,
   "metadata": {},
   "outputs": [],
   "source": [
    "import pickle    #importing libraries\n",
    "import cv2\n",
    "import numpy as np"
   ]
  },
  {
   "cell_type": "markdown",
   "metadata": {},
   "source": [
    "Load the trained model."
   ]
  },
  {
   "cell_type": "code",
   "execution_count": 23,
   "metadata": {},
   "outputs": [],
   "source": [
    "picl = open(\"ready.p\",\"rb\")\n",
    "model = pickle.load(picl)"
   ]
  },
  {
   "cell_type": "markdown",
   "metadata": {},
   "source": [
    "Creating a dictionary with respect to classes and colors."
   ]
  },
  {
   "cell_type": "code",
   "execution_count": 24,
   "metadata": {},
   "outputs": [],
   "source": [
    "clas = {0:'mask',1:'no mask'}\n",
    "color = {0:(0,255,0),1:(0,0,255)}"
   ]
  },
  {
   "cell_type": "markdown",
   "metadata": {},
   "source": [
    "Initializing cascade classifier for identifying faces and creating video capture object."
   ]
  },
  {
   "cell_type": "code",
   "execution_count": 39,
   "metadata": {},
   "outputs": [],
   "source": [
    "face = cv2.CascadeClassifier('haarcascade_frontalface_default.xml')\n",
    "src = cv2.VideoCapture(0)"
   ]
  },
  {
   "cell_type": "markdown",
   "metadata": {},
   "source": [
    "Reading the data from camera and preprocessing it,then predicting the class finially drawing the rectangle around the face."
   ]
  },
  {
   "cell_type": "code",
   "execution_count": 40,
   "metadata": {},
   "outputs": [],
   "source": [
    "while True:\n",
    "    succ,imgor = src.read()\n",
    "    gray = cv2.cvtColor(imgor,cv2.COLOR_BGR2GRAY)\n",
    "    faces = face.detectMultiScale(gray,1.3,5) \n",
    "    \n",
    "    for(x,y,w,h) in faces:\n",
    "        \n",
    "        facecap = gray[y:y+w,x:x+w]\n",
    "        re_size = cv2.resize(facecap,(28,28))\n",
    "        normal = re_size/255\n",
    "        cng_shape = np.reshape(normal,(1,28,28,1))\n",
    "        res = model.predict(cng_shape)\n",
    "        pred = np.argmax(res)\n",
    "        \n",
    "        cv2.rectangle(imgor,(x,y),(x+w,y+h),color[pred],2)\n",
    "        cv2.rectangle(imgor,(x,y-40),(x+w,y),color[pred],-1)\n",
    "        cv2.putText(imgor,clas[pred],(x,y-10),cv2.FONT_HERSHEY_SIMPLEX,0.8,(255,255,255),2)\n",
    "    \n",
    "    cv2.imshow(\"Capture\",imgor)\n",
    "\n",
    "    \n",
    "    if cv2.waitKey(1) & 0xFF ==ord('q'):\n",
    "        break\n",
    "       \n",
    "\n",
    "cv2.destroyAllWindows()\n",
    "src.release()\n",
    "\n",
    "        "
   ]
  }
 ],
 "metadata": {
  "kernelspec": {
   "display_name": "Python 3",
   "language": "python",
   "name": "python3"
  },
  "language_info": {
   "codemirror_mode": {
    "name": "ipython",
    "version": 3
   },
   "file_extension": ".py",
   "mimetype": "text/x-python",
   "name": "python",
   "nbconvert_exporter": "python",
   "pygments_lexer": "ipython3",
   "version": "3.7.6"
  }
 },
 "nbformat": 4,
 "nbformat_minor": 4
}
