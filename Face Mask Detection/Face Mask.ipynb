{
 "cells": [
  {
   "cell_type": "markdown",
   "metadata": {},
   "source": [
    "Importing Libraries."
   ]
  },
  {
   "cell_type": "code",
   "execution_count": 4,
   "metadata": {},
   "outputs": [],
   "source": [
    "import os\n",
    "import cv2\n",
    "import numpy as np\n",
    "from sklearn.model_selection import train_test_split\n",
    "from keras.models import Sequential\n",
    "from keras.utils import to_categorical\n",
    "from keras.layers import MaxPooling2D,Convolution2D,Dense,Dropout,Flatten,Input\n",
    "import pickle\n",
    "import pandas as pd\n"
   ]
  },
  {
   "cell_type": "code",
   "execution_count": 12,
   "metadata": {},
   "outputs": [],
   "source": [
    "from IPython.display import Image"
   ]
  },
  {
   "cell_type": "markdown",
   "metadata": {},
   "source": [
    "Importing Images from dataset."
   ]
  },
  {
   "cell_type": "code",
   "execution_count": 17,
   "metadata": {},
   "outputs": [
    {
     "name": "stdout",
     "output_type": "stream",
     "text": [
      "with and without mask\n",
      "getting images\n",
      "0 1  \n"
     ]
    }
   ],
   "source": [
    "path=\"C:/Users/Prathmesh/Documents/Untitled Folder/dataset\"\n",
    "count=0\n",
    "dir=os.listdir(path)\n",
    "imgs=[]\n",
    "count=0\n",
    "classno=[]\n",
    "\n",
    "print(\"with and without mask\")\n",
    "nosf=len(dir)\n",
    "print(\"getting images\")\n",
    "\n",
    "for x in range(0,nosf):\n",
    "    mypics=os.listdir(path+\"/\"+str(count))\n",
    "    for y in mypics:\n",
    "        curimg = cv2.imread(path+\"/\"+str(count)+\"/\"+y)\n",
    "        imgs.append(curimg)\n",
    "        classno.append(count)\n",
    "    print(count,end=\" \")\n",
    "    count+=1\n",
    "print(\" \")\n",
    "\n",
    "imgnp=np.array(imgs)\n",
    "clsnp=np.array(classno)\n",
    "        \n",
    "    \n",
    "\n",
    "\n",
    "\n"
   ]
  },
  {
   "cell_type": "markdown",
   "metadata": {},
   "source": [
    "Splitting data for training testing and validation."
   ]
  },
  {
   "cell_type": "code",
   "execution_count": 162,
   "metadata": {},
   "outputs": [],
   "source": [
    "x_train, x_test, y_train, y_test = train_test_split(imgnp,clsnp,test_size=0.2)\n",
    "x_train, x_valid, y_train, y_valid = train_test_split(x_train,y_train,test_size=0.2)\n"
   ]
  },
  {
   "cell_type": "code",
   "execution_count": 166,
   "metadata": {},
   "outputs": [],
   "source": [
    "from keras.preprocessing.image import ImageDataGenerator #for generation images in batches"
   ]
  },
  {
   "cell_type": "markdown",
   "metadata": {},
   "source": [
    "Preprocess the images."
   ]
  },
  {
   "cell_type": "code",
   "execution_count": 167,
   "metadata": {},
   "outputs": [],
   "source": [
    "def processing(img):\n",
    "    img = cv2.resize(img,(28,28))\n",
    "    img = cv2.cvtColor(img,cv2.COLOR_BGR2GRAY)\n",
    "    img = cv2.equalizeHist(img)\n",
    "    img = img/255\n",
    "    return img"
   ]
  },
  {
   "cell_type": "code",
   "execution_count": 168,
   "metadata": {},
   "outputs": [],
   "source": [
    "x_train = np.array(list(map(processing,x_train)))\n",
    "x_test = np.array(list(map(processing,x_test)))\n",
    "x_valid = np.array(list(map(processing,x_valid)))"
   ]
  },
  {
   "cell_type": "markdown",
   "metadata": {},
   "source": [
    "Reshaping the image to add depth."
   ]
  },
  {
   "cell_type": "code",
   "execution_count": 30,
   "metadata": {},
   "outputs": [],
   "source": [
    "%matplotlib inline\n",
    "import matplotlib.pyplot as plt #importing matplotlib for visualization\n"
   ]
  },
  {
   "cell_type": "code",
   "execution_count": 169,
   "metadata": {},
   "outputs": [],
   "source": [
    "x_train=x_train.reshape(880,28,28,1)\n",
    "x_test=x_test.reshape(276,28,28,1)\n",
    "x_valid=x_valid.reshape(220,28,28,1)"
   ]
  },
  {
   "cell_type": "markdown",
   "metadata": {},
   "source": [
    "Augmenting images."
   ]
  },
  {
   "cell_type": "code",
   "execution_count": 170,
   "metadata": {},
   "outputs": [],
   "source": [
    "datagen = ImageDataGenerator(width_shift_range=0.1,\n",
    "                            height_shift_range=0.1,\n",
    "                            zoom_range=0.2,\n",
    "                            shear_range=0.1,\n",
    "                            rotation_range=10)\n",
    "datagen.fit(x_train)"
   ]
  },
  {
   "cell_type": "code",
   "execution_count": 171,
   "metadata": {},
   "outputs": [],
   "source": [
    "\n",
    "batch = datagen.flow(x_train,y_train,batch_size=20)\n",
    "x_batch, y_batch = next(batch)\n",
    "\n",
    "\n",
    "\n"
   ]
  },
  {
   "cell_type": "markdown",
   "metadata": {},
   "source": [
    "Converting train,test and validation labels in categorical form or simply on hot encoding."
   ]
  },
  {
   "cell_type": "code",
   "execution_count": 172,
   "metadata": {},
   "outputs": [],
   "source": [
    "y_train = to_categorical(y_train)\n",
    "y_test = to_categorical(y_test)\n",
    "y_valid = to_categorical(y_valid)\n"
   ]
  },
  {
   "cell_type": "code",
   "execution_count": null,
   "metadata": {},
   "outputs": [],
   "source": []
  },
  {
   "cell_type": "markdown",
   "metadata": {},
   "source": [
    "Building the model."
   ]
  },
  {
   "cell_type": "code",
   "execution_count": 176,
   "metadata": {},
   "outputs": [],
   "source": [
    "def mymod():\n",
    "    \n",
    "    model = Sequential()\n",
    "    \n",
    "    model.add(Convolution2D(60,(5,5),activation='relu',input_shape=(28,28,1)))\n",
    "    model.add(Convolution2D(60,(5,5),activation='relu'))\n",
    "    model.add(MaxPooling2D(2,2))\n",
    "    \n",
    "    model.add(Convolution2D(30,(3,3),activation='relu'))\n",
    "    model.add(Convolution2D(30,(3,3),activation='relu'))\n",
    "    model.add(MaxPooling2D(2,2))\n",
    "    model.add(Dropout(0.5))\n",
    "    \n",
    "    model.add(Flatten())\n",
    "    model.add(Dense(500,activation='relu'))\n",
    "    model.add(Dropout(0.5))\n",
    "    model.add(Dense(2,activation='softmax'))\n",
    "    \n",
    "    model.compile(optimizer='adam',loss='categorical_crossentropy',metrics=['accuracy'])\n",
    "    return model\n",
    "        \n",
    "    "
   ]
  },
  {
   "cell_type": "markdown",
   "metadata": {},
   "source": [
    "Getting the summary of model."
   ]
  },
  {
   "cell_type": "code",
   "execution_count": 177,
   "metadata": {},
   "outputs": [
    {
     "name": "stdout",
     "output_type": "stream",
     "text": [
      "Model: \"sequential_6\"\n",
      "_________________________________________________________________\n",
      "Layer (type)                 Output Shape              Param #   \n",
      "=================================================================\n",
      "conv2d_18 (Conv2D)           (None, 24, 24, 60)        1560      \n",
      "_________________________________________________________________\n",
      "conv2d_19 (Conv2D)           (None, 20, 20, 60)        90060     \n",
      "_________________________________________________________________\n",
      "max_pooling2d_8 (MaxPooling2 (None, 10, 10, 60)        0         \n",
      "_________________________________________________________________\n",
      "conv2d_20 (Conv2D)           (None, 8, 8, 30)          16230     \n",
      "_________________________________________________________________\n",
      "conv2d_21 (Conv2D)           (None, 6, 6, 30)          8130      \n",
      "_________________________________________________________________\n",
      "max_pooling2d_9 (MaxPooling2 (None, 3, 3, 30)          0         \n",
      "_________________________________________________________________\n",
      "dropout_5 (Dropout)          (None, 3, 3, 30)          0         \n",
      "_________________________________________________________________\n",
      "flatten_3 (Flatten)          (None, 270)               0         \n",
      "_________________________________________________________________\n",
      "dense_5 (Dense)              (None, 500)               135500    \n",
      "_________________________________________________________________\n",
      "dropout_6 (Dropout)          (None, 500)               0         \n",
      "_________________________________________________________________\n",
      "dense_6 (Dense)              (None, 2)                 1002      \n",
      "=================================================================\n",
      "Total params: 252,482\n",
      "Trainable params: 252,482\n",
      "Non-trainable params: 0\n",
      "_________________________________________________________________\n",
      "None\n"
     ]
    }
   ],
   "source": [
    "mod = mymod()\n",
    "print(mod.summary())"
   ]
  },
  {
   "cell_type": "markdown",
   "metadata": {},
   "source": [
    "Training the model and svaing it into history, (if you are using GPU then it trains significantly faster)."
   ]
  },
  {
   "cell_type": "code",
   "execution_count": 181,
   "metadata": {
    "scrolled": true
   },
   "outputs": [
    {
     "name": "stdout",
     "output_type": "stream",
     "text": [
      "Epoch 1/11\n",
      "880/880 [==============================] - 27s 31ms/step - loss: 0.0123 - accuracy: 0.9958 - val_loss: 0.2449 - val_accuracy: 0.9682 loss:\n",
      "Epoch 2/11\n",
      "880/880 [==============================] - 26s 30ms/step - loss: 0.0143 - accuracy: 0.9952 - val_loss: 0.2131 - val_accuracy: 0.9591\n",
      "Epoch 3/11\n",
      "880/880 [==============================] - 26s 30ms/step - loss: 0.0135 - accuracy: 0.9956 - val_loss: 0.3220 - val_accuracy: 0.9682\n",
      "Epoch 4/11\n",
      "880/880 [==============================] - 26s 30ms/step - loss: 0.0141 - accuracy: 0.9957 - val_loss: 0.2072 - val_accuracy: 0.9773\n",
      "Epoch 5/11\n",
      "880/880 [==============================] - 26s 30ms/step - loss: 0.0146 - accuracy: 0.9951 - val_loss: 0.1734 - val_accuracy: 0.9727\n",
      "Epoch 6/11\n",
      "880/880 [==============================] - 26s 30ms/step - loss: 0.0102 - accuracy: 0.9965 - val_loss: 0.2342 - val_accuracy: 0.9636\n",
      "Epoch 7/11\n",
      "880/880 [==============================] - 26s 30ms/step - loss: 0.0115 - accuracy: 0.9965 - val_loss: 0.2350 - val_accuracy: 0.9773\n",
      "Epoch 8/11\n",
      "880/880 [==============================] - 26s 30ms/step - loss: 0.0119 - accuracy: 0.9960 - val_loss: 0.2577 - val_accuracy: 0.9682\n",
      "Epoch 9/11\n",
      "880/880 [==============================] - 26s 30ms/step - loss: 0.0111 - accuracy: 0.9965 - val_loss: 0.2721 - val_accuracy: 0.9727\n",
      "Epoch 10/11\n",
      "880/880 [==============================] - 27s 30ms/step - loss: 0.0088 - accuracy: 0.9974 - val_loss: 0.4647 - val_accuracy: 0.9682\n",
      "Epoch 11/11\n",
      "880/880 [==============================] - 27s 30ms/step - loss: 0.0110 - accuracy: 0.9965 - val_loss: 0.4295 - val_accuracy: 0.9636\n"
     ]
    }
   ],
   "source": [
    "history = mod.fit_generator(datagen.flow(x_train,y_train,batch_size=50),\n",
    "                             steps_per_epoch=880,\n",
    "                             epochs=11,\n",
    "                             validation_data=(x_valid,y_valid),\n",
    "                             shuffle=1)"
   ]
  },
  {
   "cell_type": "markdown",
   "metadata": {},
   "source": [
    "Evaluating the models accuracy."
   ]
  },
  {
   "cell_type": "code",
   "execution_count": 183,
   "metadata": {},
   "outputs": [
    {
     "name": "stdout",
     "output_type": "stream",
     "text": [
      "276/276 [==============================] - 0s 1ms/step\n",
      "0.6457240499307838\n",
      "0.9528985619544983\n"
     ]
    }
   ],
   "source": [
    "score = mod.evaluate(x_test,y_test)\n",
    "print(score[0])\n",
    "print(score[1])"
   ]
  },
  {
   "cell_type": "markdown",
   "metadata": {},
   "source": [
    "Saving the model in pickle object."
   ]
  },
  {
   "cell_type": "code",
   "execution_count": 184,
   "metadata": {},
   "outputs": [
    {
     "data": {
      "text/plain": [
       "-1"
      ]
     },
     "execution_count": 184,
     "metadata": {},
     "output_type": "execute_result"
    }
   ],
   "source": [
    "pik = open(\"ready.p\",\"wb\")\n",
    "pickle.dump(mod,pik)\n",
    "pik.close()\n",
    "cv2.waitKey(0)"
   ]
  },
  {
   "cell_type": "markdown",
   "metadata": {},
   "source": [
    "Visualizing the data."
   ]
  },
  {
   "cell_type": "code",
   "execution_count": 186,
   "metadata": {},
   "outputs": [
    {
     "data": {
      "image/png": "[encoded data removed]",
      "text/plain": [
       "<Figure size 432x288 with 1 Axes>"
      ]
     },
     "metadata": {
      "needs_background": "light"
     },
     "output_type": "display_data"
    }
   ],
   "source": [
    "plt.figure(0)\n",
    "plt.plot(history.history['loss'],'r')\n",
    "plt.plot(history.history['val_loss'],'b')\n",
    "plt.xlabel('epochs')\n",
    "plt.ylabel('loss')\n",
    "plt.show()"
   ]
  },
  {
   "cell_type": "code",
   "execution_count": 187,
   "metadata": {},
   "outputs": [
    {
     "data": {
      "image/png": "[encoded data removed]",
      "text/plain": [
       "<Figure size 432x288 with 1 Axes>"
      ]
     },
     "metadata": {
      "needs_background": "light"
     },
     "output_type": "display_data"
    }
   ],
   "source": [
    "plt.figure(0)\n",
    "plt.plot(history.history['accuracy'],'r')\n",
    "plt.plot(history.history['val_accuracy'],'b')\n",
    "plt.xlabel('epochs')\n",
    "plt.ylabel('loss')\n",
    "plt.show()"
   ]
  },
  {
   "cell_type": "markdown",
   "metadata": {},
   "source": [
    "Verifying the results by predicting."
   ]
  },
  {
   "cell_type": "code",
   "execution_count": 188,
   "metadata": {},
   "outputs": [],
   "source": [
    "y_pred=mod.predict(x_test)"
   ]
  },
  {
   "cell_type": "markdown",
   "metadata": {},
   "source": [
    "Testing for any image."
   ]
  },
  {
   "cell_type": "code",
   "execution_count": 190,
   "metadata": {},
   "outputs": [
    {
     "data": {
      "text/plain": [
       "<matplotlib.image.AxesImage at 0x1e1324c35c8>"
      ]
     },
     "execution_count": 190,
     "metadata": {},
     "output_type": "execute_result"
    },
    {
     "data": {
      "image/png": "[encoded data removed]",
      "text/plain": [
       "<Figure size 288x288 with 1 Axes>"
      ]
     },
     "metadata": {
      "needs_background": "light"
     },
     "output_type": "display_data"
    }
   ],
   "source": [
    "plt.matshow(x_test[0].reshape(28,28))"
   ]
  },
  {
   "cell_type": "code",
   "execution_count": 192,
   "metadata": {},
   "outputs": [
    {
     "data": {
      "text/plain": [
       "1"
      ]
     },
     "execution_count": 192,
     "metadata": {},
     "output_type": "execute_result"
    }
   ],
   "source": [
    "np.argmax(y_pred[0]) #it predicted correctly as 1 belongs to class of no mask."
   ]
  },
  {
   "cell_type": "markdown",
   "metadata": {},
   "source": [
    "(Even though the loss is more you can still make changes in the model and yield better results.)"
   ]
  }
 ],
 "metadata": {
  "kernelspec": {
   "display_name": "Python 3",
   "language": "python",
   "name": "python3"
  },
  "language_info": {
   "codemirror_mode": {
    "name": "ipython",
    "version": 3
   },
   "file_extension": ".py",
   "mimetype": "text/x-python",
   "name": "python",
   "nbconvert_exporter": "python",
   "pygments_lexer": "ipython3",
   "version": "3.7.6"
  }
 },
 "nbformat": 4,
 "nbformat_minor": 4
}
